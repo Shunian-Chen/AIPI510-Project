{
  "nbformat": 4,
  "nbformat_minor": 0,
  "metadata": {
    "colab": {
      "name": "AIPI530 Final Project.ipynb",
      "provenance": [],
      "authorship_tag": "ABX9TyO2xKg21NCb32nIYp45i2uH",
      "include_colab_link": true
    },
    "kernelspec": {
      "name": "python3",
      "display_name": "Python 3"
    },
    "language_info": {
      "name": "python"
    },
    "accelerator": "GPU"
  },
  "cells": [
    {
      "cell_type": "markdown",
      "metadata": {
        "id": "view-in-github",
        "colab_type": "text"
      },
      "source": [
        "<a href=\"https://colab.research.google.com/github/Shunian-Chen/AIPI510-Project/blob/main/AIPI530_Final_Project.ipynb\" target=\"_parent\"><img src=\"https://colab.research.google.com/assets/colab-badge.svg\" alt=\"Open In Colab\"/></a>"
      ]
    },
    {
      "cell_type": "code",
      "metadata": {
        "colab": {
          "base_uri": "https://localhost:8080/"
        },
        "id": "Se2tPsGKy7wG",
        "outputId": "cf11cbd1-9d70-4fa8-e131-8d4feb39e023"
      },
      "source": [
        "from os.path import join\n",
        "from google.colab import drive\n",
        "\n",
        "ROOT = \"/content/drive\"\n",
        "drive.mount(ROOT)"
      ],
      "execution_count": 1,
      "outputs": [
        {
          "output_type": "stream",
          "name": "stdout",
          "text": [
            "Mounted at /content/drive\n"
          ]
        }
      ]
    },
    {
      "cell_type": "code",
      "metadata": {
        "colab": {
          "base_uri": "https://localhost:8080/"
        },
        "id": "yrs7Nn18zS-_",
        "outputId": "e96cda66-630c-4e31-d63f-a14ebb6a48c6"
      },
      "source": [
        "PROJ = \"My Drive/repos\"\n",
        "PROJECT_PATH = join(ROOT, PROJ)\n",
        "!mkdir \"{PROJECT_PATH}\""
      ],
      "execution_count": 2,
      "outputs": [
        {
          "output_type": "stream",
          "name": "stdout",
          "text": [
            "mkdir: cannot create directory ‘/content/drive/My Drive/repos’: File exists\n"
          ]
        }
      ]
    },
    {
      "cell_type": "code",
      "metadata": {
        "colab": {
          "base_uri": "https://localhost:8080/"
        },
        "id": "n_BqDCCtzeya",
        "outputId": "d9aad81e-32df-4235-aa75-20b318adcd4f"
      },
      "source": [
        "!ls"
      ],
      "execution_count": 3,
      "outputs": [
        {
          "output_type": "stream",
          "name": "stdout",
          "text": [
            "drive  sample_data\n"
          ]
        }
      ]
    },
    {
      "cell_type": "code",
      "metadata": {
        "colab": {
          "base_uri": "https://localhost:8080/"
        },
        "id": "RLe4X1dtzlal",
        "outputId": "126d067a-cba9-42f9-e60c-8d67a20e0501"
      },
      "source": [
        "%cd /content/drive/\"My Drive\"/repos"
      ],
      "execution_count": 4,
      "outputs": [
        {
          "output_type": "stream",
          "name": "stdout",
          "text": [
            "/content/drive/My Drive/repos\n"
          ]
        }
      ]
    },
    {
      "cell_type": "code",
      "metadata": {
        "colab": {
          "base_uri": "https://localhost:8080/"
        },
        "id": "XjYMgTm7x0oC",
        "outputId": "936dd9c4-275c-4bc7-d700-851fffa1a4b2"
      },
      "source": [
        "!git clone https://github.com/takuseno/d3rlpy"
      ],
      "execution_count": 5,
      "outputs": [
        {
          "output_type": "stream",
          "name": "stdout",
          "text": [
            "fatal: destination path 'd3rlpy' already exists and is not an empty directory.\n"
          ]
        }
      ]
    },
    {
      "cell_type": "code",
      "metadata": {
        "colab": {
          "base_uri": "https://localhost:8080/"
        },
        "id": "B1EAVhFLybko",
        "outputId": "e549e51c-8a43-4dd8-f5e0-a04699a7a845"
      },
      "source": [
        "%cd d3rlpy\n",
        "!pip install Cpython numpy\n",
        "!pip install -e ."
      ],
      "execution_count": 6,
      "outputs": [
        {
          "output_type": "stream",
          "name": "stdout",
          "text": [
            "/content/drive/My Drive/repos/d3rlpy\n",
            "Collecting Cpython\n",
            "  Downloading cPython-0.0.6.tar.gz (4.7 kB)\n",
            "Requirement already satisfied: numpy in /usr/local/lib/python3.7/dist-packages (1.19.5)\n",
            "Requirement already satisfied: pymongo in /usr/local/lib/python3.7/dist-packages (from Cpython) (3.12.1)\n",
            "Requirement already satisfied: requests in /usr/local/lib/python3.7/dist-packages (from Cpython) (2.23.0)\n",
            "Requirement already satisfied: urllib3!=1.25.0,!=1.25.1,<1.26,>=1.21.1 in /usr/local/lib/python3.7/dist-packages (from requests->Cpython) (1.24.3)\n",
            "Requirement already satisfied: chardet<4,>=3.0.2 in /usr/local/lib/python3.7/dist-packages (from requests->Cpython) (3.0.4)\n",
            "Requirement already satisfied: certifi>=2017.4.17 in /usr/local/lib/python3.7/dist-packages (from requests->Cpython) (2021.10.8)\n",
            "Requirement already satisfied: idna<3,>=2.5 in /usr/local/lib/python3.7/dist-packages (from requests->Cpython) (2.10)\n",
            "Building wheels for collected packages: Cpython\n",
            "  Building wheel for Cpython (setup.py) ... \u001b[?25l\u001b[?25hdone\n",
            "  Created wheel for Cpython: filename=cPython-0.0.6-py3-none-any.whl size=4912 sha256=2d8c2f2d8d728274a68675e2119cb9cee4697ecc9257e01ff339666fc0e99688\n",
            "  Stored in directory: /root/.cache/pip/wheels/88/92/ea/c32ad929e979a7303e010b29c736c793368f6f61c8c9902865\n",
            "Successfully built Cpython\n",
            "Installing collected packages: Cpython\n",
            "Successfully installed Cpython-0.0.6\n",
            "Obtaining file:///content/drive/My%20Drive/repos/d3rlpy\n",
            "Requirement already satisfied: torch in /usr/local/lib/python3.7/dist-packages (from d3rlpy==0.91) (1.10.0+cu111)\n",
            "Requirement already satisfied: scikit-learn in /usr/local/lib/python3.7/dist-packages (from d3rlpy==0.91) (1.0.1)\n",
            "Collecting tensorboardX\n",
            "  Downloading tensorboardX-2.4.1-py2.py3-none-any.whl (124 kB)\n",
            "\u001b[K     |████████████████████████████████| 124 kB 14.5 MB/s \n",
            "\u001b[?25hRequirement already satisfied: tqdm in /usr/local/lib/python3.7/dist-packages (from d3rlpy==0.91) (4.62.3)\n",
            "Collecting GPUtil\n",
            "  Downloading GPUtil-1.4.0.tar.gz (5.5 kB)\n",
            "Requirement already satisfied: h5py in /usr/local/lib/python3.7/dist-packages (from d3rlpy==0.91) (3.1.0)\n",
            "Requirement already satisfied: gym in /usr/local/lib/python3.7/dist-packages (from d3rlpy==0.91) (0.17.3)\n",
            "Requirement already satisfied: click in /usr/local/lib/python3.7/dist-packages (from d3rlpy==0.91) (7.1.2)\n",
            "Requirement already satisfied: typing-extensions in /usr/local/lib/python3.7/dist-packages (from d3rlpy==0.91) (3.10.0.2)\n",
            "Requirement already satisfied: cloudpickle in /usr/local/lib/python3.7/dist-packages (from d3rlpy==0.91) (1.3.0)\n",
            "Requirement already satisfied: scipy in /usr/local/lib/python3.7/dist-packages (from d3rlpy==0.91) (1.4.1)\n",
            "Collecting structlog\n",
            "  Downloading structlog-21.4.0-py3-none-any.whl (51 kB)\n",
            "\u001b[K     |████████████████████████████████| 51 kB 613 kB/s \n",
            "\u001b[?25hCollecting colorama\n",
            "  Downloading colorama-0.4.4-py2.py3-none-any.whl (16 kB)\n",
            "Requirement already satisfied: pyglet<=1.5.0,>=1.4.0 in /usr/local/lib/python3.7/dist-packages (from gym->d3rlpy==0.91) (1.5.0)\n",
            "Requirement already satisfied: numpy>=1.10.4 in /usr/local/lib/python3.7/dist-packages (from gym->d3rlpy==0.91) (1.19.5)\n",
            "Requirement already satisfied: future in /usr/local/lib/python3.7/dist-packages (from pyglet<=1.5.0,>=1.4.0->gym->d3rlpy==0.91) (0.16.0)\n",
            "Requirement already satisfied: cached-property in /usr/local/lib/python3.7/dist-packages (from h5py->d3rlpy==0.91) (1.5.2)\n",
            "Requirement already satisfied: threadpoolctl>=2.0.0 in /usr/local/lib/python3.7/dist-packages (from scikit-learn->d3rlpy==0.91) (3.0.0)\n",
            "Requirement already satisfied: joblib>=0.11 in /usr/local/lib/python3.7/dist-packages (from scikit-learn->d3rlpy==0.91) (1.1.0)\n",
            "Requirement already satisfied: protobuf>=3.8.0 in /usr/local/lib/python3.7/dist-packages (from tensorboardX->d3rlpy==0.91) (3.17.3)\n",
            "Requirement already satisfied: six>=1.9 in /usr/local/lib/python3.7/dist-packages (from protobuf>=3.8.0->tensorboardX->d3rlpy==0.91) (1.15.0)\n",
            "Building wheels for collected packages: GPUtil\n",
            "  Building wheel for GPUtil (setup.py) ... \u001b[?25l\u001b[?25hdone\n",
            "  Created wheel for GPUtil: filename=GPUtil-1.4.0-py3-none-any.whl size=7411 sha256=44dcacf82b5645f37c6cf3753b03ae02d929b32a387ffd6925ca7e6d0cc82c89\n",
            "  Stored in directory: /root/.cache/pip/wheels/6e/f8/83/534c52482d6da64622ddbf72cd93c35d2ef2881b78fd08ff0c\n",
            "Successfully built GPUtil\n",
            "Installing collected packages: tensorboardX, structlog, GPUtil, colorama, d3rlpy\n",
            "  Running setup.py develop for d3rlpy\n",
            "Successfully installed GPUtil-1.4.0 colorama-0.4.4 d3rlpy-0.91 structlog-21.4.0 tensorboardX-2.4.1\n"
          ]
        }
      ]
    },
    {
      "cell_type": "code",
      "metadata": {
        "colab": {
          "base_uri": "https://localhost:8080/"
        },
        "id": "ZC3ONrYWyn-5",
        "outputId": "f1c3de2e-5e24-48a9-dbf1-240ae77b5e19"
      },
      "source": [
        "pip install git+https://github.com/takuseno/d4rl-pybullet"
      ],
      "execution_count": 7,
      "outputs": [
        {
          "output_type": "stream",
          "name": "stdout",
          "text": [
            "Collecting git+https://github.com/takuseno/d4rl-pybullet\n",
            "  Cloning https://github.com/takuseno/d4rl-pybullet to /tmp/pip-req-build-apzb6qms\n",
            "  Running command git clone -q https://github.com/takuseno/d4rl-pybullet /tmp/pip-req-build-apzb6qms\n",
            "Requirement already satisfied: gym in /usr/local/lib/python3.7/dist-packages (from d4rl-pybullet==0.1) (0.17.3)\n",
            "Collecting pybullet\n",
            "  Downloading pybullet-3.2.1-cp37-cp37m-manylinux_2_5_x86_64.manylinux1_x86_64.whl (90.8 MB)\n",
            "\u001b[K     |████████████████████████████████| 90.8 MB 295 bytes/s \n",
            "\u001b[?25hRequirement already satisfied: h5py in /usr/local/lib/python3.7/dist-packages (from d4rl-pybullet==0.1) (3.1.0)\n",
            "Requirement already satisfied: numpy>=1.10.4 in /usr/local/lib/python3.7/dist-packages (from gym->d4rl-pybullet==0.1) (1.19.5)\n",
            "Requirement already satisfied: scipy in /usr/local/lib/python3.7/dist-packages (from gym->d4rl-pybullet==0.1) (1.4.1)\n",
            "Requirement already satisfied: cloudpickle<1.7.0,>=1.2.0 in /usr/local/lib/python3.7/dist-packages (from gym->d4rl-pybullet==0.1) (1.3.0)\n",
            "Requirement already satisfied: pyglet<=1.5.0,>=1.4.0 in /usr/local/lib/python3.7/dist-packages (from gym->d4rl-pybullet==0.1) (1.5.0)\n",
            "Requirement already satisfied: future in /usr/local/lib/python3.7/dist-packages (from pyglet<=1.5.0,>=1.4.0->gym->d4rl-pybullet==0.1) (0.16.0)\n",
            "Requirement already satisfied: cached-property in /usr/local/lib/python3.7/dist-packages (from h5py->d4rl-pybullet==0.1) (1.5.2)\n",
            "Building wheels for collected packages: d4rl-pybullet\n",
            "  Building wheel for d4rl-pybullet (setup.py) ... \u001b[?25l\u001b[?25hdone\n",
            "  Created wheel for d4rl-pybullet: filename=d4rl_pybullet-0.1-py3-none-any.whl size=9677 sha256=0ab599540c8238e116fc79d9e66445609a8ad4a20a96e22878a44038eb06e4ac\n",
            "  Stored in directory: /tmp/pip-ephem-wheel-cache-q1_n88bq/wheels/b4/d8/bd/728e23d6bb27020a84d5bf37fdb63667b8d436a17ddf642bb9\n",
            "Successfully built d4rl-pybullet\n",
            "Installing collected packages: pybullet, d4rl-pybullet\n",
            "Successfully installed d4rl-pybullet-0.1 pybullet-3.2.1\n"
          ]
        }
      ]
    },
    {
      "cell_type": "code",
      "metadata": {
        "id": "rvAt-s7i1B5P"
      },
      "source": [
        ""
      ],
      "execution_count": null,
      "outputs": []
    }
  ]
}