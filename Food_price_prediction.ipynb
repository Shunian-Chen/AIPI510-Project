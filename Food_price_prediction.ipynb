{
  "nbformat": 4,
  "nbformat_minor": 0,
  "metadata": {
    "orig_nbformat": 4,
    "colab": {
      "name": "Food price prediction.ipynb",
      "provenance": [],
      "collapsed_sections": [],
      "include_colab_link": true
    },
    "language_info": {
      "name": "python"
    },
    "kernelspec": {
      "name": "python3",
      "display_name": "Python 3"
    }
  },
  "cells": [
    {
      "cell_type": "markdown",
      "metadata": {
        "id": "view-in-github",
        "colab_type": "text"
      },
      "source": [
        "<a href=\"https://colab.research.google.com/github/Shunian-Chen/AIPI510-Project/blob/main/Food_price_prediction.ipynb\" target=\"_parent\"><img src=\"https://colab.research.google.com/assets/colab-badge.svg\" alt=\"Open In Colab\"/></a>"
      ]
    },
    {
      "cell_type": "markdown",
      "metadata": {
        "id": "zXkQxfzyFO1-"
      },
      "source": [
        "# AIPI510 Project Food Price Prediction"
      ]
    },
    {
      "cell_type": "code",
      "metadata": {
        "colab": {
          "base_uri": "https://localhost:8080/"
        },
        "id": "e9zcW5DJF8wp",
        "outputId": "81e03e1d-95ec-4d40-e2af-53e5aae99748"
      },
      "source": [
        "from google.colab import drive\n",
        "drive.mount('/content/drive')\n"
      ],
      "execution_count": 1,
      "outputs": [
        {
          "output_type": "stream",
          "name": "stdout",
          "text": [
            "Mounted at /content/drive\n"
          ]
        }
      ]
    },
    {
      "cell_type": "markdown",
      "metadata": {
        "id": "v7G_wpRaFO2C"
      },
      "source": [
        "## 1. Data Cleaning"
      ]
    },
    {
      "cell_type": "markdown",
      "metadata": {
        "id": "Yk3VNXfiFVJ_"
      },
      "source": [
        "### 1.0 Import Libraries"
      ]
    },
    {
      "cell_type": "code",
      "metadata": {
        "id": "aeknbL1DFaKX"
      },
      "source": [
        "import pandas as pd\n",
        "import matplotlib.pyplot as plt\n",
        "import os"
      ],
      "execution_count": 149,
      "outputs": []
    },
    {
      "cell_type": "markdown",
      "metadata": {
        "id": "eyu4kA2_FO2C"
      },
      "source": [
        "### 1.1 Read Data"
      ]
    },
    {
      "cell_type": "code",
      "metadata": {
        "id": "uSRolm2oFO2D"
      },
      "source": [
        "#Change working directory\n",
        "PATH = \"/content/drive/MyDrive/AIPI510-Project\"\n",
        "os.chdir(PATH)\n",
        "os.getcwd()\n",
        "\n",
        "'''\n",
        "read data into a dictionary\n",
        "key of the dictionary is the name of dataset\n",
        "value of the dictionary is the value of that dataset, \n",
        "which contains both the date and price\n",
        "'''\n",
        "data_path = os.listdir(os.path.join(PATH, \"Data\"))\n",
        "data_list = {}\n",
        "columns = [\"close\", \"value\", \"dcoilwtico\", \"usd\", \"m2\"]              #columns that needed for analysis\n",
        "for path in data_path:\n",
        "  #read data\n",
        "  data_path = os.path.join(\"Data\", path)\n",
        "  data = pd.read_csv(data_path, header = 0)\n",
        "\n",
        "  #clean the column names\n",
        "  data.columns = [h.lower().replace(\" \", \"\") for h in data.columns]\n",
        "\n",
        "  #extract columns needed\n",
        "  col = [\"date\"] + data.columns[data.columns.isin(columns)].values.tolist()\n",
        "  data = data[col]\n",
        "\n",
        "  #rename the columns\n",
        "  name = path.split(\".\")[0]\n",
        "  data.columns = [\"Date\", name]\n",
        "\n",
        "  #transfer datetime\n",
        "  data[\"Date\"] = pd.to_datetime(data[\"Date\"])\n",
        "  data.set_index(\"Date\", inplace = True)\n",
        "\n",
        "  #store the data in a dictory\n",
        "  data_list[name] = data.copy()"
      ],
      "execution_count": 222,
      "outputs": []
    },
    {
      "cell_type": "markdown",
      "metadata": {
        "id": "jacnrGFZfupt"
      },
      "source": [
        "M2 data is stock data, we want to use the change of m2 as a feature"
      ]
    },
    {
      "cell_type": "code",
      "metadata": {
        "id": "leM7krr_XrTT"
      },
      "source": [
        "m2 = data_list['M2'].shift(1)\n",
        "data_list[\"M2\"] =data_list[\"M2\"]  - m2"
      ],
      "execution_count": 200,
      "outputs": []
    },
    {
      "cell_type": "markdown",
      "metadata": {
        "id": "hIfcS4W0FO2E"
      },
      "source": [
        "### 1.2 Null Value Processing"
      ]
    },
    {
      "cell_type": "markdown",
      "metadata": {
        "id": "El1SvDsyIDtA"
      },
      "source": [
        "#### 1.2.1 Count null values in each feature"
      ]
    },
    {
      "cell_type": "code",
      "metadata": {
        "id": "scYsjLl3UCQq"
      },
      "source": [
        "def count_null(data):\n",
        "  #count null values in each dataframe\n",
        "  null_values = {\"feature\":[], \"No. null\":[]}\n",
        "  for key, value in data.items():\n",
        "    null_values[\"feature\"].append(key)\n",
        "    null_values[\"No. null\"].append(sum(value[key].isna()))\n",
        "  null_values = pd.DataFrame.from_dict(null_values)\n",
        "  #visualize null values\n",
        "  ax = plt.barh(height = 0.6, width = null_values[\"No. null\"], y = null_values[\"feature\"])\n",
        "  return null_values"
      ],
      "execution_count": 201,
      "outputs": []
    },
    {
      "cell_type": "code",
      "metadata": {
        "colab": {
          "base_uri": "https://localhost:8080/",
          "height": 265
        },
        "id": "RE-wrjmpZpkG",
        "outputId": "6737218d-3f1c-4c80-9835-c6757d4f1f2e"
      },
      "source": [
        "null_count = count_null(data_list)"
      ],
      "execution_count": 202,
      "outputs": [
        {
          "output_type": "display_data",
          "data": {
            "image/png": "[encoded data removed]",
            "text/plain": [
              "<Figure size 432x288 with 1 Axes>"
            ]
          },
          "metadata": {
            "needs_background": "light"
          }
        }
      ]
    },
    {
      "cell_type": "markdown",
      "metadata": {
        "id": "LmgXLaQ3IJoa"
      },
      "source": [
        "#### 1.2.2 See how null values distributed in each feature\n",
        "The results show that all the missing values are actually due to the days haven't arrive, that is, those days haven't really arrive when the data are collected. Therefore, these null values can be directly deleted."
      ]
    },
    {
      "cell_type": "code",
      "metadata": {
        "colab": {
          "base_uri": "https://localhost:8080/"
        },
        "id": "QeC4kfFGIPq2",
        "outputId": "c8d5d6f2-6709-40a8-a748-2c5667d953a5"
      },
      "source": [
        "nul_col = null_count[null_count['No. null'] != 0][\"feature\"]\n",
        "for col in nul_col:\n",
        "  print(data_list[col].index[data_list[col][col].isna()])"
      ],
      "execution_count": 203,
      "outputs": [
        {
          "output_type": "stream",
          "name": "stdout",
          "text": [
            "DatetimeIndex(['2021-11-09', '2021-11-10', '2021-11-11', '2021-11-12',\n",
            "               '2021-11-13', '2021-11-14', '2021-11-15', '2021-11-16',\n",
            "               '2021-11-17', '2021-11-18', '2021-11-19', '2021-11-20',\n",
            "               '2021-11-21', '2021-11-22', '2021-11-23', '2021-11-24',\n",
            "               '2021-11-25', '2021-11-26', '2021-11-27', '2021-11-28',\n",
            "               '2021-11-29'],\n",
            "              dtype='datetime64[ns]', name='Date', freq=None)\n",
            "DatetimeIndex(['2021-11-09', '2021-11-10', '2021-11-11', '2021-11-12',\n",
            "               '2021-11-13', '2021-11-14', '2021-11-15', '2021-11-16',\n",
            "               '2021-11-17', '2021-11-18', '2021-11-19', '2021-11-20',\n",
            "               '2021-11-21', '2021-11-22', '2021-11-23', '2021-11-24',\n",
            "               '2021-11-25', '2021-11-26', '2021-11-27', '2021-11-28',\n",
            "               '2021-11-29'],\n",
            "              dtype='datetime64[ns]', name='Date', freq=None)\n",
            "DatetimeIndex(['2021-11-09', '2021-11-10', '2021-11-11', '2021-11-12',\n",
            "               '2021-11-13', '2021-11-14', '2021-11-15', '2021-11-16',\n",
            "               '2021-11-17', '2021-11-18', '2021-11-19', '2021-11-20',\n",
            "               '2021-11-21', '2021-11-22', '2021-11-23', '2021-11-24',\n",
            "               '2021-11-25', '2021-11-26', '2021-11-27', '2021-11-28',\n",
            "               '2021-11-29'],\n",
            "              dtype='datetime64[ns]', name='Date', freq=None)\n",
            "DatetimeIndex(['2021-11-09', '2021-11-10', '2021-11-11', '2021-11-12',\n",
            "               '2021-11-13', '2021-11-14', '2021-11-15', '2021-11-16',\n",
            "               '2021-11-17', '2021-11-18', '2021-11-19', '2021-11-20',\n",
            "               '2021-11-21', '2021-11-22', '2021-11-23', '2021-11-24',\n",
            "               '2021-11-25', '2021-11-26', '2021-11-27', '2021-11-28',\n",
            "               '2021-11-29'],\n",
            "              dtype='datetime64[ns]', name='Date', freq=None)\n",
            "DatetimeIndex(['1980-11-03'], dtype='datetime64[ns]', name='Date', freq=None)\n"
          ]
        }
      ]
    },
    {
      "cell_type": "markdown",
      "metadata": {
        "id": "8wPDjo7cTd4P"
      },
      "source": [
        "#### 1.2.3Delete Null Values"
      ]
    },
    {
      "cell_type": "code",
      "metadata": {
        "id": "cVwpAnflTbpC"
      },
      "source": [
        "data_no_null = {}\n",
        "for key, value in data_list.items():\n",
        "  data_no_null[key] = value[~value[key].isna()]"
      ],
      "execution_count": 204,
      "outputs": []
    },
    {
      "cell_type": "code",
      "metadata": {
        "id": "UKH5FnPlT-dE",
        "outputId": "eaa3256e-ed9e-441d-c424-5e1871ebd5eb",
        "colab": {
          "base_uri": "https://localhost:8080/",
          "height": 607
        }
      },
      "source": [
        "count_null(data_no_null)"
      ],
      "execution_count": 205,
      "outputs": [
        {
          "output_type": "execute_result",
          "data": {
            "text/html": [
              "<div>\n",
              "<style scoped>\n",
              "    .dataframe tbody tr th:only-of-type {\n",
              "        vertical-align: middle;\n",
              "    }\n",
              "\n",
              "    .dataframe tbody tr th {\n",
              "        vertical-align: top;\n",
              "    }\n",
              "\n",
              "    .dataframe thead th {\n",
              "        text-align: right;\n",
              "    }\n",
              "</style>\n",
              "<table border=\"1\" class=\"dataframe\">\n",
              "  <thead>\n",
              "    <tr style=\"text-align: right;\">\n",
              "      <th></th>\n",
              "      <th>feature</th>\n",
              "      <th>No. null</th>\n",
              "    </tr>\n",
              "  </thead>\n",
              "  <tbody>\n",
              "    <tr>\n",
              "      <th>0</th>\n",
              "      <td>Coal</td>\n",
              "      <td>0</td>\n",
              "    </tr>\n",
              "    <tr>\n",
              "      <th>1</th>\n",
              "      <td>Corn</td>\n",
              "      <td>0</td>\n",
              "    </tr>\n",
              "    <tr>\n",
              "      <th>2</th>\n",
              "      <td>Copper</td>\n",
              "      <td>0</td>\n",
              "    </tr>\n",
              "    <tr>\n",
              "      <th>3</th>\n",
              "      <td>Natural-Gas</td>\n",
              "      <td>0</td>\n",
              "    </tr>\n",
              "    <tr>\n",
              "      <th>4</th>\n",
              "      <td>Silver</td>\n",
              "      <td>0</td>\n",
              "    </tr>\n",
              "    <tr>\n",
              "      <th>5</th>\n",
              "      <td>Soybean</td>\n",
              "      <td>0</td>\n",
              "    </tr>\n",
              "    <tr>\n",
              "      <th>6</th>\n",
              "      <td>Wheat</td>\n",
              "      <td>0</td>\n",
              "    </tr>\n",
              "    <tr>\n",
              "      <th>7</th>\n",
              "      <td>Crude-Oil</td>\n",
              "      <td>0</td>\n",
              "    </tr>\n",
              "    <tr>\n",
              "      <th>8</th>\n",
              "      <td>Golden</td>\n",
              "      <td>0</td>\n",
              "    </tr>\n",
              "    <tr>\n",
              "      <th>9</th>\n",
              "      <td>M2</td>\n",
              "      <td>0</td>\n",
              "    </tr>\n",
              "  </tbody>\n",
              "</table>\n",
              "</div>"
            ],
            "text/plain": [
              "       feature  No. null\n",
              "0         Coal         0\n",
              "1         Corn         0\n",
              "2       Copper         0\n",
              "3  Natural-Gas         0\n",
              "4       Silver         0\n",
              "5      Soybean         0\n",
              "6        Wheat         0\n",
              "7    Crude-Oil         0\n",
              "8       Golden         0\n",
              "9           M2         0"
            ]
          },
          "metadata": {},
          "execution_count": 205
        },
        {
          "output_type": "display_data",
          "data": {
            "image/png": "[encoded data removed]",
            "text/plain": [
              "<Figure size 432x288 with 1 Axes>"
            ]
          },
          "metadata": {
            "needs_background": "light"
          }
        }
      ]
    },
    {
      "cell_type": "markdown",
      "metadata": {
        "id": "Z0ARhUJhFO2E"
      },
      "source": [
        "### 1.3 Combine Data From Different Source"
      ]
    },
    {
      "cell_type": "code",
      "metadata": {
        "id": "kJJ4v66jH6N1"
      },
      "source": [
        "combo_data = pd.DataFrame()\n",
        "for key, value in data_no_null.items():\n",
        "  combo_data = combo_data.merge(value, left_index = True, right_index = True, how = \"outer\")"
      ],
      "execution_count": 216,
      "outputs": []
    },
    {
      "cell_type": "markdown",
      "metadata": {
        "id": "U0v8I76Nf4UN"
      },
      "source": [
        "For m2, since we only have weekly data, we will use the number of the week to fill out the value in each day within that week"
      ]
    },
    {
      "cell_type": "code",
      "metadata": {
        "id": "UyQnj-5XWd-Q",
        "outputId": "83f7a911-3312-4752-f2bb-01ac2bb91ee7",
        "colab": {
          "base_uri": "https://localhost:8080/",
          "height": 450
        }
      },
      "source": [
        "combo_data[\"M2\"] = combo_data[\"M2\"].fillna(method = \"ffill\")\n",
        "combo_data"
      ],
      "execution_count": 217,
      "outputs": [
        {
          "output_type": "execute_result",
          "data": {
            "text/html": [
              "<div>\n",
              "<style scoped>\n",
              "    .dataframe tbody tr th:only-of-type {\n",
              "        vertical-align: middle;\n",
              "    }\n",
              "\n",
              "    .dataframe tbody tr th {\n",
              "        vertical-align: top;\n",
              "    }\n",
              "\n",
              "    .dataframe thead th {\n",
              "        text-align: right;\n",
              "    }\n",
              "</style>\n",
              "<table border=\"1\" class=\"dataframe\">\n",
              "  <thead>\n",
              "    <tr style=\"text-align: right;\">\n",
              "      <th></th>\n",
              "      <th>Coal</th>\n",
              "      <th>Corn</th>\n",
              "      <th>Copper</th>\n",
              "      <th>Natural-Gas</th>\n",
              "      <th>Silver</th>\n",
              "      <th>Soybean</th>\n",
              "      <th>Wheat</th>\n",
              "      <th>Crude-Oil</th>\n",
              "      <th>Golden</th>\n",
              "      <th>M2</th>\n",
              "    </tr>\n",
              "    <tr>\n",
              "      <th>Date</th>\n",
              "      <th></th>\n",
              "      <th></th>\n",
              "      <th></th>\n",
              "      <th></th>\n",
              "      <th></th>\n",
              "      <th></th>\n",
              "      <th></th>\n",
              "      <th></th>\n",
              "      <th></th>\n",
              "      <th></th>\n",
              "    </tr>\n",
              "  </thead>\n",
              "  <tbody>\n",
              "    <tr>\n",
              "      <th>1959-07-01</th>\n",
              "      <td>NaN</td>\n",
              "      <td>1.177</td>\n",
              "      <td>NaN</td>\n",
              "      <td>NaN</td>\n",
              "      <td>NaN</td>\n",
              "      <td>NaN</td>\n",
              "      <td>1.964</td>\n",
              "      <td>NaN</td>\n",
              "      <td>NaN</td>\n",
              "      <td>NaN</td>\n",
              "    </tr>\n",
              "    <tr>\n",
              "      <th>1959-07-02</th>\n",
              "      <td>NaN</td>\n",
              "      <td>1.176</td>\n",
              "      <td>0.2930</td>\n",
              "      <td>NaN</td>\n",
              "      <td>NaN</td>\n",
              "      <td>NaN</td>\n",
              "      <td>1.971</td>\n",
              "      <td>NaN</td>\n",
              "      <td>NaN</td>\n",
              "      <td>NaN</td>\n",
              "    </tr>\n",
              "    <tr>\n",
              "      <th>1959-07-06</th>\n",
              "      <td>NaN</td>\n",
              "      <td>1.171</td>\n",
              "      <td>0.2910</td>\n",
              "      <td>NaN</td>\n",
              "      <td>NaN</td>\n",
              "      <td>NaN</td>\n",
              "      <td>1.970</td>\n",
              "      <td>NaN</td>\n",
              "      <td>NaN</td>\n",
              "      <td>NaN</td>\n",
              "    </tr>\n",
              "    <tr>\n",
              "      <th>1959-07-07</th>\n",
              "      <td>NaN</td>\n",
              "      <td>1.171</td>\n",
              "      <td>0.2820</td>\n",
              "      <td>NaN</td>\n",
              "      <td>NaN</td>\n",
              "      <td>NaN</td>\n",
              "      <td>1.971</td>\n",
              "      <td>NaN</td>\n",
              "      <td>NaN</td>\n",
              "      <td>NaN</td>\n",
              "    </tr>\n",
              "    <tr>\n",
              "      <th>1959-07-08</th>\n",
              "      <td>NaN</td>\n",
              "      <td>1.170</td>\n",
              "      <td>0.2846</td>\n",
              "      <td>NaN</td>\n",
              "      <td>NaN</td>\n",
              "      <td>NaN</td>\n",
              "      <td>1.964</td>\n",
              "      <td>NaN</td>\n",
              "      <td>NaN</td>\n",
              "      <td>NaN</td>\n",
              "    </tr>\n",
              "    <tr>\n",
              "      <th>...</th>\n",
              "      <td>...</td>\n",
              "      <td>...</td>\n",
              "      <td>...</td>\n",
              "      <td>...</td>\n",
              "      <td>...</td>\n",
              "      <td>...</td>\n",
              "      <td>...</td>\n",
              "      <td>...</td>\n",
              "      <td>...</td>\n",
              "      <td>...</td>\n",
              "    </tr>\n",
              "    <tr>\n",
              "      <th>2021-11-05</th>\n",
              "      <td>148.25</td>\n",
              "      <td>5.530</td>\n",
              "      <td>4.3430</td>\n",
              "      <td>NaN</td>\n",
              "      <td>24.535</td>\n",
              "      <td>12.055</td>\n",
              "      <td>7.665</td>\n",
              "      <td>NaN</td>\n",
              "      <td>1,801.90</td>\n",
              "      <td>-1.8</td>\n",
              "    </tr>\n",
              "    <tr>\n",
              "      <th>2021-11-06</th>\n",
              "      <td>NaN</td>\n",
              "      <td>NaN</td>\n",
              "      <td>NaN</td>\n",
              "      <td>NaN</td>\n",
              "      <td>24.535</td>\n",
              "      <td>NaN</td>\n",
              "      <td>NaN</td>\n",
              "      <td>NaN</td>\n",
              "      <td>NaN</td>\n",
              "      <td>-1.8</td>\n",
              "    </tr>\n",
              "    <tr>\n",
              "      <th>2021-11-07</th>\n",
              "      <td>NaN</td>\n",
              "      <td>NaN</td>\n",
              "      <td>NaN</td>\n",
              "      <td>NaN</td>\n",
              "      <td>24.175</td>\n",
              "      <td>NaN</td>\n",
              "      <td>NaN</td>\n",
              "      <td>NaN</td>\n",
              "      <td>NaN</td>\n",
              "      <td>-1.8</td>\n",
              "    </tr>\n",
              "    <tr>\n",
              "      <th>2021-11-08</th>\n",
              "      <td>157.50</td>\n",
              "      <td>5.515</td>\n",
              "      <td>4.3990</td>\n",
              "      <td>NaN</td>\n",
              "      <td>24.535</td>\n",
              "      <td>11.885</td>\n",
              "      <td>7.680</td>\n",
              "      <td>NaN</td>\n",
              "      <td>NaN</td>\n",
              "      <td>-1.8</td>\n",
              "    </tr>\n",
              "    <tr>\n",
              "      <th>2021-11-09</th>\n",
              "      <td>152.00</td>\n",
              "      <td>NaN</td>\n",
              "      <td>NaN</td>\n",
              "      <td>NaN</td>\n",
              "      <td>24.370</td>\n",
              "      <td>NaN</td>\n",
              "      <td>NaN</td>\n",
              "      <td>NaN</td>\n",
              "      <td>NaN</td>\n",
              "      <td>-1.8</td>\n",
              "    </tr>\n",
              "  </tbody>\n",
              "</table>\n",
              "<p>16479 rows × 10 columns</p>\n",
              "</div>"
            ],
            "text/plain": [
              "              Coal   Corn  Copper  Natural-Gas  ...  Wheat  Crude-Oil    Golden   M2\n",
              "Date                                            ...                                 \n",
              "1959-07-01     NaN  1.177     NaN          NaN  ...  1.964        NaN       NaN  NaN\n",
              "1959-07-02     NaN  1.176  0.2930          NaN  ...  1.971        NaN       NaN  NaN\n",
              "1959-07-06     NaN  1.171  0.2910          NaN  ...  1.970        NaN       NaN  NaN\n",
              "1959-07-07     NaN  1.171  0.2820          NaN  ...  1.971        NaN       NaN  NaN\n",
              "1959-07-08     NaN  1.170  0.2846          NaN  ...  1.964        NaN       NaN  NaN\n",
              "...            ...    ...     ...          ...  ...    ...        ...       ...  ...\n",
              "2021-11-05  148.25  5.530  4.3430          NaN  ...  7.665        NaN  1,801.90 -1.8\n",
              "2021-11-06     NaN    NaN     NaN          NaN  ...    NaN        NaN       NaN -1.8\n",
              "2021-11-07     NaN    NaN     NaN          NaN  ...    NaN        NaN       NaN -1.8\n",
              "2021-11-08  157.50  5.515  4.3990          NaN  ...  7.680        NaN       NaN -1.8\n",
              "2021-11-09  152.00    NaN     NaN          NaN  ...    NaN        NaN       NaN -1.8\n",
              "\n",
              "[16479 rows x 10 columns]"
            ]
          },
          "metadata": {},
          "execution_count": 217
        }
      ]
    },
    {
      "cell_type": "markdown",
      "metadata": {
        "id": "kO5N3Ebpghq7"
      },
      "source": [
        "Then we only choose those days all feature are avaiable"
      ]
    },
    {
      "cell_type": "code",
      "metadata": {
        "id": "LE67CB9WgnXi",
        "outputId": "a5cc64db-afa1-4f4a-d288-244210fbb8eb",
        "colab": {
          "base_uri": "https://localhost:8080/",
          "height": 450
        }
      },
      "source": [
        "combo_data.dropna(axis = 0, how = 'any')"
      ],
      "execution_count": 212,
      "outputs": [
        {
          "output_type": "execute_result",
          "data": {
            "text/html": [
              "<div>\n",
              "<style scoped>\n",
              "    .dataframe tbody tr th:only-of-type {\n",
              "        vertical-align: middle;\n",
              "    }\n",
              "\n",
              "    .dataframe tbody tr th {\n",
              "        vertical-align: top;\n",
              "    }\n",
              "\n",
              "    .dataframe thead th {\n",
              "        text-align: right;\n",
              "    }\n",
              "</style>\n",
              "<table border=\"1\" class=\"dataframe\">\n",
              "  <thead>\n",
              "    <tr style=\"text-align: right;\">\n",
              "      <th></th>\n",
              "      <th>Coal</th>\n",
              "      <th>Corn</th>\n",
              "      <th>Copper</th>\n",
              "      <th>Natural-Gas</th>\n",
              "      <th>Silver</th>\n",
              "      <th>Soybean</th>\n",
              "      <th>Wheat</th>\n",
              "      <th>Crude-Oil</th>\n",
              "      <th>Golden</th>\n",
              "      <th>M2</th>\n",
              "    </tr>\n",
              "    <tr>\n",
              "      <th>Date</th>\n",
              "      <th></th>\n",
              "      <th></th>\n",
              "      <th></th>\n",
              "      <th></th>\n",
              "      <th></th>\n",
              "      <th></th>\n",
              "      <th></th>\n",
              "      <th></th>\n",
              "      <th></th>\n",
              "      <th></th>\n",
              "    </tr>\n",
              "  </thead>\n",
              "  <tbody>\n",
              "    <tr>\n",
              "      <th>2009-09-01</th>\n",
              "      <td>68.25</td>\n",
              "      <td>3.1925</td>\n",
              "      <td>2.8185</td>\n",
              "      <td>4.13</td>\n",
              "      <td>15.00750</td>\n",
              "      <td>9.5550</td>\n",
              "      <td>4.8725</td>\n",
              "      <td>68.11</td>\n",
              "      <td>955</td>\n",
              "      <td>4.7</td>\n",
              "    </tr>\n",
              "    <tr>\n",
              "      <th>2009-10-01</th>\n",
              "      <td>71.20</td>\n",
              "      <td>3.4050</td>\n",
              "      <td>2.7370</td>\n",
              "      <td>5.22</td>\n",
              "      <td>16.41000</td>\n",
              "      <td>9.1800</td>\n",
              "      <td>4.5275</td>\n",
              "      <td>70.67</td>\n",
              "      <td>1,004.80</td>\n",
              "      <td>-2.8</td>\n",
              "    </tr>\n",
              "    <tr>\n",
              "      <th>2009-12-01</th>\n",
              "      <td>77.50</td>\n",
              "      <td>4.1450</td>\n",
              "      <td>3.2135</td>\n",
              "      <td>7.39</td>\n",
              "      <td>19.12500</td>\n",
              "      <td>10.5950</td>\n",
              "      <td>5.8400</td>\n",
              "      <td>78.39</td>\n",
              "      <td>1,192.50</td>\n",
              "      <td>-0.1</td>\n",
              "    </tr>\n",
              "    <tr>\n",
              "      <th>2010-02-01</th>\n",
              "      <td>79.15</td>\n",
              "      <td>3.5900</td>\n",
              "      <td>3.0835</td>\n",
              "      <td>6.03</td>\n",
              "      <td>16.63750</td>\n",
              "      <td>9.0975</td>\n",
              "      <td>4.7475</td>\n",
              "      <td>74.41</td>\n",
              "      <td>1,086.50</td>\n",
              "      <td>14.5</td>\n",
              "    </tr>\n",
              "    <tr>\n",
              "      <th>2010-03-01</th>\n",
              "      <td>76.75</td>\n",
              "      <td>3.8175</td>\n",
              "      <td>3.3500</td>\n",
              "      <td>4.95</td>\n",
              "      <td>16.47250</td>\n",
              "      <td>9.6250</td>\n",
              "      <td>5.0450</td>\n",
              "      <td>78.71</td>\n",
              "      <td>1,114.00</td>\n",
              "      <td>-12.6</td>\n",
              "    </tr>\n",
              "    <tr>\n",
              "      <th>...</th>\n",
              "      <td>...</td>\n",
              "      <td>...</td>\n",
              "      <td>...</td>\n",
              "      <td>...</td>\n",
              "      <td>...</td>\n",
              "      <td>...</td>\n",
              "      <td>...</td>\n",
              "      <td>...</td>\n",
              "      <td>...</td>\n",
              "      <td>...</td>\n",
              "    </tr>\n",
              "    <tr>\n",
              "      <th>2021-06-01</th>\n",
              "      <td>95.80</td>\n",
              "      <td>6.8875</td>\n",
              "      <td>4.6535</td>\n",
              "      <td>3.83</td>\n",
              "      <td>27.88625</td>\n",
              "      <td>15.4850</td>\n",
              "      <td>6.9350</td>\n",
              "      <td>67.8</td>\n",
              "      <td>1,899.40</td>\n",
              "      <td>-1.8</td>\n",
              "    </tr>\n",
              "    <tr>\n",
              "      <th>2021-07-01</th>\n",
              "      <td>122.25</td>\n",
              "      <td>6.0175</td>\n",
              "      <td>4.2360</td>\n",
              "      <td>3.96</td>\n",
              "      <td>26.02375</td>\n",
              "      <td>14.2975</td>\n",
              "      <td>6.6550</td>\n",
              "      <td>75.33</td>\n",
              "      <td>1,781.50</td>\n",
              "      <td>-1.8</td>\n",
              "    </tr>\n",
              "    <tr>\n",
              "      <th>2021-09-01</th>\n",
              "      <td>156.25</td>\n",
              "      <td>5.2275</td>\n",
              "      <td>4.2780</td>\n",
              "      <td>5.58</td>\n",
              "      <td>24.16525</td>\n",
              "      <td>12.7775</td>\n",
              "      <td>7.1425</td>\n",
              "      <td>68.63</td>\n",
              "      <td>1,811.80</td>\n",
              "      <td>-1.8</td>\n",
              "    </tr>\n",
              "    <tr>\n",
              "      <th>2021-10-01</th>\n",
              "      <td>233.05</td>\n",
              "      <td>5.4150</td>\n",
              "      <td>4.1885</td>\n",
              "      <td>5.49</td>\n",
              "      <td>22.53000</td>\n",
              "      <td>12.4650</td>\n",
              "      <td>7.5525</td>\n",
              "      <td>76.01</td>\n",
              "      <td>1,757.10</td>\n",
              "      <td>-1.8</td>\n",
              "    </tr>\n",
              "    <tr>\n",
              "      <th>2021-11-01</th>\n",
              "      <td>136.00</td>\n",
              "      <td>5.7900</td>\n",
              "      <td>4.3935</td>\n",
              "      <td>5.33</td>\n",
              "      <td>24.01500</td>\n",
              "      <td>12.4850</td>\n",
              "      <td>7.9725</td>\n",
              "      <td>84.08</td>\n",
              "      <td>1,793.80</td>\n",
              "      <td>-1.8</td>\n",
              "    </tr>\n",
              "  </tbody>\n",
              "</table>\n",
              "<p>94 rows × 10 columns</p>\n",
              "</div>"
            ],
            "text/plain": [
              "              Coal    Corn  Copper  ...  Crude-Oil    Golden    M2\n",
              "Date                                ...                           \n",
              "2009-09-01   68.25  3.1925  2.8185  ...      68.11       955   4.7\n",
              "2009-10-01   71.20  3.4050  2.7370  ...      70.67  1,004.80  -2.8\n",
              "2009-12-01   77.50  4.1450  3.2135  ...      78.39  1,192.50  -0.1\n",
              "2010-02-01   79.15  3.5900  3.0835  ...      74.41  1,086.50  14.5\n",
              "2010-03-01   76.75  3.8175  3.3500  ...      78.71  1,114.00 -12.6\n",
              "...            ...     ...     ...  ...        ...       ...   ...\n",
              "2021-06-01   95.80  6.8875  4.6535  ...       67.8  1,899.40  -1.8\n",
              "2021-07-01  122.25  6.0175  4.2360  ...      75.33  1,781.50  -1.8\n",
              "2021-09-01  156.25  5.2275  4.2780  ...      68.63  1,811.80  -1.8\n",
              "2021-10-01  233.05  5.4150  4.1885  ...      76.01  1,757.10  -1.8\n",
              "2021-11-01  136.00  5.7900  4.3935  ...      84.08  1,793.80  -1.8\n",
              "\n",
              "[94 rows x 10 columns]"
            ]
          },
          "metadata": {},
          "execution_count": 212
        }
      ]
    },
    {
      "cell_type": "markdown",
      "metadata": {
        "id": "86JUxiBvH2DB"
      },
      "source": [
        "### 1.4 Outlier Dection"
      ]
    },
    {
      "cell_type": "code",
      "metadata": {
        "id": "cbAdYTVfFO2E"
      },
      "source": [
        ""
      ],
      "execution_count": null,
      "outputs": []
    },
    {
      "cell_type": "code",
      "metadata": {
        "id": "Vot0ZI80FO2F"
      },
      "source": [
        ""
      ],
      "execution_count": null,
      "outputs": []
    },
    {
      "cell_type": "markdown",
      "metadata": {
        "id": "0SjuFCZVFO2F"
      },
      "source": [
        "### 1.5 Food Price Index Calculation"
      ]
    },
    {
      "cell_type": "code",
      "metadata": {
        "id": "z7bB0cpcFO2G"
      },
      "source": [
        ""
      ],
      "execution_count": null,
      "outputs": []
    },
    {
      "cell_type": "markdown",
      "metadata": {
        "id": "h8R3cpioFO2G"
      },
      "source": [
        "### 1.6 Data Normalization"
      ]
    },
    {
      "cell_type": "code",
      "metadata": {
        "id": "Oc0pYz_AFO2G"
      },
      "source": [
        ""
      ],
      "execution_count": null,
      "outputs": []
    },
    {
      "cell_type": "markdown",
      "metadata": {
        "id": "qjlEKOcDFO2H"
      },
      "source": [
        "### 1.7 Feature Selection"
      ]
    },
    {
      "cell_type": "code",
      "metadata": {
        "id": "CVpMyOAHFO2H"
      },
      "source": [
        ""
      ],
      "execution_count": null,
      "outputs": []
    },
    {
      "cell_type": "markdown",
      "metadata": {
        "id": "JMzPPc23FO2H"
      },
      "source": [
        "## 2. Model Fitting"
      ]
    },
    {
      "cell_type": "code",
      "metadata": {
        "id": "QQB3GFXnFO2I"
      },
      "source": [
        ""
      ],
      "execution_count": null,
      "outputs": []
    },
    {
      "cell_type": "markdown",
      "metadata": {
        "id": "OvN9ihnAFO2I"
      },
      "source": [
        "## 3. Result Presentation"
      ]
    },
    {
      "cell_type": "code",
      "metadata": {
        "id": "RdWtnAhSFO2I"
      },
      "source": [
        ""
      ],
      "execution_count": null,
      "outputs": []
    }
  ]
}