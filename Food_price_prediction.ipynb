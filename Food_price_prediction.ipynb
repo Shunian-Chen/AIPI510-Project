{
  "nbformat": 4,
  "nbformat_minor": 0,
  "metadata": {
    "orig_nbformat": 4,
    "colab": {
      "name": "Food price prediction.ipynb",
      "provenance": [],
      "collapsed_sections": [],
      "include_colab_link": true
    },
    "language_info": {
      "name": "python"
    },
    "kernelspec": {
      "name": "python3",
      "display_name": "Python 3"
    }
  },
  "cells": [
    {
      "cell_type": "markdown",
      "metadata": {
        "id": "view-in-github",
        "colab_type": "text"
      },
      "source": [
        "<a href=\"https://colab.research.google.com/github/Shunian-Chen/AIPI510-Project/blob/main/Food_price_prediction.ipynb\" target=\"_parent\"><img src=\"https://colab.research.google.com/assets/colab-badge.svg\" alt=\"Open In Colab\"/></a>"
      ]
    },
    {
      "cell_type": "markdown",
      "metadata": {
        "id": "zXkQxfzyFO1-"
      },
      "source": [
        "# AIPI510 Project Food Price Prediction"
      ]
    },
    {
      "cell_type": "markdown",
      "metadata": {
        "id": "v7G_wpRaFO2C"
      },
      "source": [
        "## 1. Data Cleaning"
      ]
    },
    {
      "cell_type": "markdown",
      "metadata": {
        "id": "Yk3VNXfiFVJ_"
      },
      "source": [
        "## 1.0 Import Libraries"
      ]
    },
    {
      "cell_type": "code",
      "metadata": {
        "id": "aeknbL1DFaKX"
      },
      "source": [
        "import pandas as pd\n"
      ],
      "execution_count": null,
      "outputs": []
    },
    {
      "cell_type": "code",
      "metadata": {
        "colab": {
          "base_uri": "https://localhost:8080/"
        },
        "id": "HbcOrtRmFo48",
        "outputId": "409a1ded-ed8c-4f3a-9a59-42b109647e86"
      },
      "source": [
        "from google.colab import drive\n",
        "drive.mount('/content/drive')"
      ],
      "execution_count": 1,
      "outputs": [
        {
          "output_type": "stream",
          "name": "stdout",
          "text": [
            "Mounted at /content/drive\n"
          ]
        }
      ]
    },
    {
      "cell_type": "markdown",
      "metadata": {
        "id": "eyu4kA2_FO2C"
      },
      "source": [
        "### 1.1 Read Data"
      ]
    },
    {
      "cell_type": "code",
      "metadata": {
        "id": "uSRolm2oFO2D"
      },
      "source": [
        ""
      ],
      "execution_count": null,
      "outputs": []
    },
    {
      "cell_type": "markdown",
      "metadata": {
        "id": "Z0ARhUJhFO2E"
      },
      "source": [
        "### 1.2 Combine Data From Different Source"
      ]
    },
    {
      "cell_type": "code",
      "metadata": {
        "id": "cbAdYTVfFO2E"
      },
      "source": [
        ""
      ],
      "execution_count": null,
      "outputs": []
    },
    {
      "cell_type": "markdown",
      "metadata": {
        "id": "hIfcS4W0FO2E"
      },
      "source": [
        "### 1.3 Null Value Processing"
      ]
    },
    {
      "cell_type": "code",
      "metadata": {
        "id": "Vot0ZI80FO2F"
      },
      "source": [
        ""
      ],
      "execution_count": null,
      "outputs": []
    },
    {
      "cell_type": "markdown",
      "metadata": {
        "id": "0SjuFCZVFO2F"
      },
      "source": [
        "### 1.4 Food Price Index Calculation"
      ]
    },
    {
      "cell_type": "code",
      "metadata": {
        "id": "z7bB0cpcFO2G"
      },
      "source": [
        ""
      ],
      "execution_count": null,
      "outputs": []
    },
    {
      "cell_type": "markdown",
      "metadata": {
        "id": "h8R3cpioFO2G"
      },
      "source": [
        "### 1.5 Data Normalization"
      ]
    },
    {
      "cell_type": "code",
      "metadata": {
        "id": "Oc0pYz_AFO2G"
      },
      "source": [
        ""
      ],
      "execution_count": null,
      "outputs": []
    },
    {
      "cell_type": "markdown",
      "metadata": {
        "id": "qjlEKOcDFO2H"
      },
      "source": [
        "### 1.6 Feature Selection"
      ]
    },
    {
      "cell_type": "code",
      "metadata": {
        "id": "CVpMyOAHFO2H"
      },
      "source": [
        ""
      ],
      "execution_count": null,
      "outputs": []
    },
    {
      "cell_type": "markdown",
      "metadata": {
        "id": "JMzPPc23FO2H"
      },
      "source": [
        "## 2. Model Fitting"
      ]
    },
    {
      "cell_type": "code",
      "metadata": {
        "id": "QQB3GFXnFO2I"
      },
      "source": [
        ""
      ],
      "execution_count": null,
      "outputs": []
    },
    {
      "cell_type": "markdown",
      "metadata": {
        "id": "OvN9ihnAFO2I"
      },
      "source": [
        "## 3. Result Presentation"
      ]
    },
    {
      "cell_type": "code",
      "metadata": {
        "id": "RdWtnAhSFO2I"
      },
      "source": [
        ""
      ],
      "execution_count": null,
      "outputs": []
    }
  ]
}